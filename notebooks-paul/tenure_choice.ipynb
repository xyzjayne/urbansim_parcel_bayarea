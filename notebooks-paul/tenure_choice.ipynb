{
 "cells": [
  {
   "cell_type": "markdown",
   "metadata": {},
   "source": [
    "# Preliminary tenure choice model 4/8/2018\n",
    "\n",
    "Paul Waddell | Python 3.6\n",
    "\n",
    "Based on the urbansim_templates project led by Sam Maurer"
   ]
  },
  {
   "cell_type": "code",
   "execution_count": 1,
   "metadata": {},
   "outputs": [],
   "source": [
    "import os; os.chdir('../')"
   ]
  },
  {
   "cell_type": "code",
   "execution_count": 2,
   "metadata": {},
   "outputs": [
    {
     "name": "stderr",
     "output_type": "stream",
     "text": [
      "/Users/Paul/anaconda3/envs/ual-model/lib/python3.6/site-packages/statsmodels/compat/pandas.py:56: FutureWarning: The pandas.core.datetools module is deprecated and will be removed in a future version. Please use the pandas.tseries module instead.\n",
      "  from pandas.core import datetools\n"
     ]
    }
   ],
   "source": [
    "from urbansim_templates import modelmanager as mm\n",
    "from urbansim_templates.models import BinaryLogitStep\n",
    "import orca"
   ]
  },
  {
   "cell_type": "code",
   "execution_count": 3,
   "metadata": {},
   "outputs": [],
   "source": [
    "# Load any script-based Orca registrations\n",
    "from scripts import datasources\n",
    "from scripts import models"
   ]
  },
  {
   "cell_type": "code",
   "execution_count": 4,
   "metadata": {},
   "outputs": [
    {
     "data": {
      "text/plain": [
       "['households', 'buildings']"
      ]
     },
     "execution_count": 4,
     "metadata": {},
     "output_type": "execute_result"
    }
   ],
   "source": [
    "orca.list_tables()"
   ]
  },
  {
   "cell_type": "code",
   "execution_count": 5,
   "metadata": {
    "scrolled": true
   },
   "outputs": [
    {
     "name": "stdout",
     "output_type": "stream",
     "text": [
      "HOUSEHOLDS\n",
      "['Unnamed: 0', 'serialno', 'persons', 'building_type', 'cars', 'income', 'race_of_head', 'hispanic_head', 'age_of_head', 'workers', 'state', 'county', 'tract', 'block group', 'children', 'tenure', 'recent_mover']\n",
      "\n",
      "BUILDINGS\n",
      "['building_id', 'parcel_id', 'development_type_id', 'improvement_value', 'residential_units', 'residential_sqft', 'sqft_per_unit', 'non_residential_sqft', 'building_sqft', 'nonres_rent_per_sqft', 'res_price_per_sqft', 'stories', 'year_built', 'redfin_sale_price', 'redfin_sale_year', 'redfin_home_type', 'costar_property_type', 'costar_rent', 'building_type_id']\n",
      "\n"
     ]
    }
   ],
   "source": [
    "for table_name in orca.list_tables():\n",
    "    print(table_name.upper())\n",
    "    print(orca.get_table(table_name).to_frame().columns.tolist())\n",
    "    print()"
   ]
  },
  {
   "cell_type": "markdown",
   "metadata": {},
   "source": [
    "### Turn 'tenure' into a 0/1 binary variable"
   ]
  },
  {
   "cell_type": "code",
   "execution_count": 46,
   "metadata": {},
   "outputs": [],
   "source": [
    "h = orca.get_table('households').to_frame()"
   ]
  },
  {
   "cell_type": "code",
   "execution_count": 52,
   "metadata": {},
   "outputs": [
    {
     "data": {
      "text/html": [
       "<div>\n",
       "<style scoped>\n",
       "    .dataframe tbody tr th:only-of-type {\n",
       "        vertical-align: middle;\n",
       "    }\n",
       "\n",
       "    .dataframe tbody tr th {\n",
       "        vertical-align: top;\n",
       "    }\n",
       "\n",
       "    .dataframe thead th {\n",
       "        text-align: right;\n",
       "    }\n",
       "</style>\n",
       "<table border=\"1\" class=\"dataframe\">\n",
       "  <thead>\n",
       "    <tr style=\"text-align: right;\">\n",
       "      <th></th>\n",
       "      <th>Unnamed: 0</th>\n",
       "      <th>serialno</th>\n",
       "      <th>persons</th>\n",
       "      <th>building_type</th>\n",
       "      <th>cars</th>\n",
       "      <th>income</th>\n",
       "      <th>race_of_head</th>\n",
       "      <th>age_of_head</th>\n",
       "      <th>workers</th>\n",
       "      <th>state</th>\n",
       "      <th>county</th>\n",
       "      <th>tract</th>\n",
       "      <th>block group</th>\n",
       "      <th>children</th>\n",
       "      <th>tenure</th>\n",
       "      <th>recent_mover</th>\n",
       "    </tr>\n",
       "  </thead>\n",
       "  <tbody>\n",
       "    <tr>\n",
       "      <th>count</th>\n",
       "      <td>2.518676e+06</td>\n",
       "      <td>2.518676e+06</td>\n",
       "      <td>2.518676e+06</td>\n",
       "      <td>2.518676e+06</td>\n",
       "      <td>2.518676e+06</td>\n",
       "      <td>2.518676e+06</td>\n",
       "      <td>2.518676e+06</td>\n",
       "      <td>2.518676e+06</td>\n",
       "      <td>1.980656e+06</td>\n",
       "      <td>2518676.0</td>\n",
       "      <td>2.518676e+06</td>\n",
       "      <td>2.518676e+06</td>\n",
       "      <td>2.518676e+06</td>\n",
       "      <td>800349.000000</td>\n",
       "      <td>2.518676e+06</td>\n",
       "      <td>2.518676e+06</td>\n",
       "    </tr>\n",
       "    <tr>\n",
       "      <th>mean</th>\n",
       "      <td>1.259338e+06</td>\n",
       "      <td>2.011050e+12</td>\n",
       "      <td>2.648932e+00</td>\n",
       "      <td>3.640697e+00</td>\n",
       "      <td>1.876059e+00</td>\n",
       "      <td>1.148300e+05</td>\n",
       "      <td>2.905535e+00</td>\n",
       "      <td>5.281594e+01</td>\n",
       "      <td>1.666675e+00</td>\n",
       "      <td>6.0</td>\n",
       "      <td>5.162579e+01</td>\n",
       "      <td>3.667226e+05</td>\n",
       "      <td>2.124913e+00</td>\n",
       "      <td>1.782495</td>\n",
       "      <td>5.709587e-01</td>\n",
       "      <td>3.952354e-02</td>\n",
       "    </tr>\n",
       "    <tr>\n",
       "      <th>std</th>\n",
       "      <td>7.270793e+05</td>\n",
       "      <td>1.415768e+09</td>\n",
       "      <td>1.580338e+00</td>\n",
       "      <td>2.357789e+00</td>\n",
       "      <td>1.143827e+00</td>\n",
       "      <td>1.089306e+05</td>\n",
       "      <td>2.677256e+00</td>\n",
       "      <td>1.564460e+01</td>\n",
       "      <td>8.231937e-01</td>\n",
       "      <td>0.0</td>\n",
       "      <td>3.716657e+01</td>\n",
       "      <td>1.829696e+05</td>\n",
       "      <td>1.099937e+00</td>\n",
       "      <td>0.900753</td>\n",
       "      <td>4.949393e-01</td>\n",
       "      <td>1.948370e-01</td>\n",
       "    </tr>\n",
       "    <tr>\n",
       "      <th>min</th>\n",
       "      <td>0.000000e+00</td>\n",
       "      <td>2.009000e+12</td>\n",
       "      <td>1.000000e+00</td>\n",
       "      <td>1.000000e+00</td>\n",
       "      <td>0.000000e+00</td>\n",
       "      <td>-1.160000e+04</td>\n",
       "      <td>1.000000e+00</td>\n",
       "      <td>1.500000e+01</td>\n",
       "      <td>1.000000e+00</td>\n",
       "      <td>6.0</td>\n",
       "      <td>1.000000e+00</td>\n",
       "      <td>1.010000e+04</td>\n",
       "      <td>0.000000e+00</td>\n",
       "      <td>1.000000</td>\n",
       "      <td>0.000000e+00</td>\n",
       "      <td>0.000000e+00</td>\n",
       "    </tr>\n",
       "    <tr>\n",
       "      <th>25%</th>\n",
       "      <td>6.296688e+05</td>\n",
       "      <td>2.010000e+12</td>\n",
       "      <td>1.000000e+00</td>\n",
       "      <td>2.000000e+00</td>\n",
       "      <td>1.000000e+00</td>\n",
       "      <td>4.110000e+04</td>\n",
       "      <td>1.000000e+00</td>\n",
       "      <td>4.100000e+01</td>\n",
       "      <td>1.000000e+00</td>\n",
       "      <td>6.0</td>\n",
       "      <td>1.300000e+01</td>\n",
       "      <td>2.527060e+05</td>\n",
       "      <td>1.000000e+00</td>\n",
       "      <td>1.000000</td>\n",
       "      <td>0.000000e+00</td>\n",
       "      <td>0.000000e+00</td>\n",
       "    </tr>\n",
       "    <tr>\n",
       "      <th>50%</th>\n",
       "      <td>1.259338e+06</td>\n",
       "      <td>2.011001e+12</td>\n",
       "      <td>2.000000e+00</td>\n",
       "      <td>2.000000e+00</td>\n",
       "      <td>2.000000e+00</td>\n",
       "      <td>8.550000e+04</td>\n",
       "      <td>1.000000e+00</td>\n",
       "      <td>5.200000e+01</td>\n",
       "      <td>2.000000e+00</td>\n",
       "      <td>6.0</td>\n",
       "      <td>7.500000e+01</td>\n",
       "      <td>4.231000e+05</td>\n",
       "      <td>2.000000e+00</td>\n",
       "      <td>2.000000</td>\n",
       "      <td>1.000000e+00</td>\n",
       "      <td>0.000000e+00</td>\n",
       "    </tr>\n",
       "    <tr>\n",
       "      <th>75%</th>\n",
       "      <td>1.889006e+06</td>\n",
       "      <td>2.012001e+12</td>\n",
       "      <td>4.000000e+00</td>\n",
       "      <td>5.000000e+00</td>\n",
       "      <td>2.000000e+00</td>\n",
       "      <td>1.522500e+05</td>\n",
       "      <td>6.000000e+00</td>\n",
       "      <td>6.300000e+01</td>\n",
       "      <td>2.000000e+00</td>\n",
       "      <td>6.0</td>\n",
       "      <td>8.500000e+01</td>\n",
       "      <td>5.051000e+05</td>\n",
       "      <td>3.000000e+00</td>\n",
       "      <td>2.000000</td>\n",
       "      <td>1.000000e+00</td>\n",
       "      <td>0.000000e+00</td>\n",
       "    </tr>\n",
       "    <tr>\n",
       "      <th>max</th>\n",
       "      <td>2.518675e+06</td>\n",
       "      <td>2.013001e+12</td>\n",
       "      <td>2.000000e+01</td>\n",
       "      <td>1.000000e+01</td>\n",
       "      <td>6.000000e+00</td>\n",
       "      <td>1.397000e+06</td>\n",
       "      <td>9.000000e+00</td>\n",
       "      <td>9.400000e+01</td>\n",
       "      <td>1.300000e+01</td>\n",
       "      <td>6.0</td>\n",
       "      <td>9.700000e+01</td>\n",
       "      <td>9.901000e+05</td>\n",
       "      <td>7.000000e+00</td>\n",
       "      <td>9.000000</td>\n",
       "      <td>1.000000e+00</td>\n",
       "      <td>1.000000e+00</td>\n",
       "    </tr>\n",
       "  </tbody>\n",
       "</table>\n",
       "</div>"
      ],
      "text/plain": [
       "         Unnamed: 0      serialno       persons  building_type          cars  \\\n",
       "count  2.518676e+06  2.518676e+06  2.518676e+06   2.518676e+06  2.518676e+06   \n",
       "mean   1.259338e+06  2.011050e+12  2.648932e+00   3.640697e+00  1.876059e+00   \n",
       "std    7.270793e+05  1.415768e+09  1.580338e+00   2.357789e+00  1.143827e+00   \n",
       "min    0.000000e+00  2.009000e+12  1.000000e+00   1.000000e+00  0.000000e+00   \n",
       "25%    6.296688e+05  2.010000e+12  1.000000e+00   2.000000e+00  1.000000e+00   \n",
       "50%    1.259338e+06  2.011001e+12  2.000000e+00   2.000000e+00  2.000000e+00   \n",
       "75%    1.889006e+06  2.012001e+12  4.000000e+00   5.000000e+00  2.000000e+00   \n",
       "max    2.518675e+06  2.013001e+12  2.000000e+01   1.000000e+01  6.000000e+00   \n",
       "\n",
       "             income  race_of_head   age_of_head       workers      state  \\\n",
       "count  2.518676e+06  2.518676e+06  2.518676e+06  1.980656e+06  2518676.0   \n",
       "mean   1.148300e+05  2.905535e+00  5.281594e+01  1.666675e+00        6.0   \n",
       "std    1.089306e+05  2.677256e+00  1.564460e+01  8.231937e-01        0.0   \n",
       "min   -1.160000e+04  1.000000e+00  1.500000e+01  1.000000e+00        6.0   \n",
       "25%    4.110000e+04  1.000000e+00  4.100000e+01  1.000000e+00        6.0   \n",
       "50%    8.550000e+04  1.000000e+00  5.200000e+01  2.000000e+00        6.0   \n",
       "75%    1.522500e+05  6.000000e+00  6.300000e+01  2.000000e+00        6.0   \n",
       "max    1.397000e+06  9.000000e+00  9.400000e+01  1.300000e+01        6.0   \n",
       "\n",
       "             county         tract   block group       children        tenure  \\\n",
       "count  2.518676e+06  2.518676e+06  2.518676e+06  800349.000000  2.518676e+06   \n",
       "mean   5.162579e+01  3.667226e+05  2.124913e+00       1.782495  5.709587e-01   \n",
       "std    3.716657e+01  1.829696e+05  1.099937e+00       0.900753  4.949393e-01   \n",
       "min    1.000000e+00  1.010000e+04  0.000000e+00       1.000000  0.000000e+00   \n",
       "25%    1.300000e+01  2.527060e+05  1.000000e+00       1.000000  0.000000e+00   \n",
       "50%    7.500000e+01  4.231000e+05  2.000000e+00       2.000000  1.000000e+00   \n",
       "75%    8.500000e+01  5.051000e+05  3.000000e+00       2.000000  1.000000e+00   \n",
       "max    9.700000e+01  9.901000e+05  7.000000e+00       9.000000  1.000000e+00   \n",
       "\n",
       "       recent_mover  \n",
       "count  2.518676e+06  \n",
       "mean   3.952354e-02  \n",
       "std    1.948370e-01  \n",
       "min    0.000000e+00  \n",
       "25%    0.000000e+00  \n",
       "50%    0.000000e+00  \n",
       "75%    0.000000e+00  \n",
       "max    1.000000e+00  "
      ]
     },
     "execution_count": 52,
     "metadata": {},
     "output_type": "execute_result"
    }
   ],
   "source": [
    "h.describe()"
   ]
  },
  {
   "cell_type": "code",
   "execution_count": 47,
   "metadata": {},
   "outputs": [
    {
     "data": {
      "text/plain": [
       "1    1438060\n",
       "0    1080616\n",
       "Name: tenure, dtype: int64"
      ]
     },
     "execution_count": 47,
     "metadata": {},
     "output_type": "execute_result"
    }
   ],
   "source": [
    "h.tenure.value_counts()"
   ]
  },
  {
   "cell_type": "code",
   "execution_count": 48,
   "metadata": {},
   "outputs": [
    {
     "data": {
      "text/plain": [
       "1    1438060\n",
       "0    1080616\n",
       "Name: tenure, dtype: int64"
      ]
     },
     "execution_count": 48,
     "metadata": {},
     "output_type": "execute_result"
    }
   ],
   "source": [
    "h.loc[h.tenure==2, 'tenure'] = 0\n",
    "h.tenure.value_counts()"
   ]
  },
  {
   "cell_type": "code",
   "execution_count": 49,
   "metadata": {},
   "outputs": [
    {
     "data": {
      "text/plain": [
       "1    1438060\n",
       "0    1080616\n",
       "Name: tenure, dtype: int64"
      ]
     },
     "execution_count": 49,
     "metadata": {},
     "output_type": "execute_result"
    }
   ],
   "source": [
    "# Update column\n",
    "orca.get_table('households').update_col_from_series('tenure', h.tenure)\n",
    "\n",
    "# Check that it worked\n",
    "orca.get_table('households').to_frame().tenure.value_counts()"
   ]
  },
  {
   "cell_type": "markdown",
   "metadata": {},
   "source": [
    "### Estimate a model"
   ]
  },
  {
   "cell_type": "code",
   "execution_count": 53,
   "metadata": {},
   "outputs": [],
   "source": [
    "m = BinaryLogitStep()\n",
    "m.tables = (['households'])\n",
    "m.model_expression = 'tenure ~ np.log(income+1) + workers + cars + age_of_head + building_type==2 + race_of_head==2 +\\\n",
    "hispanic_head + recent_mover'\n",
    "m.filters = ['income < 500000']"
   ]
  },
  {
   "cell_type": "code",
   "execution_count": 54,
   "metadata": {},
   "outputs": [
    {
     "name": "stderr",
     "output_type": "stream",
     "text": [
      "<string>:1: RuntimeWarning: invalid value encountered in log\n",
      "<string>:1: RuntimeWarning: invalid value encountered in log\n"
     ]
    },
    {
     "name": "stdout",
     "output_type": "stream",
     "text": [
      "Optimization terminated successfully.\n",
      "         Current function value: 0.438876\n",
      "         Iterations 7\n",
      "                           Logit Regression Results                           \n",
      "==============================================================================\n",
      "Dep. Variable:                 tenure   No. Observations:              1951643\n",
      "Model:                          Logit   Df Residuals:                  1951634\n",
      "Method:                           MLE   Df Model:                            8\n",
      "Date:                Sun, 08 Apr 2018   Pseudo R-squ.:                  0.3585\n",
      "Time:                        20:56:56   Log-Likelihood:            -8.5653e+05\n",
      "converged:                       True   LL-Null:                   -1.3352e+06\n",
      "                                        LLR p-value:                     0.000\n",
      "==============================================================================================\n",
      "                                 coef    std err          z      P>|z|      [0.025      0.975]\n",
      "----------------------------------------------------------------------------------------------\n",
      "Intercept                    -14.4507      0.034   -423.296      0.000     -14.518     -14.384\n",
      "building_type == 2[T.True]     1.9169      0.004    478.067      0.000       1.909       1.925\n",
      "race_of_head == 2[T.True]     -0.5244      0.009    -60.084      0.000      -0.542      -0.507\n",
      "hispanic_head[T.yes]          -0.3608      0.005    -66.474      0.000      -0.371      -0.350\n",
      "np.log(income + 1)             1.0131      0.003    353.043      0.000       1.007       1.019\n",
      "workers                       -0.3314      0.003   -121.333      0.000      -0.337      -0.326\n",
      "cars                           0.4169      0.002    189.234      0.000       0.413       0.421\n",
      "age_of_head                    0.0422      0.000    267.000      0.000       0.042       0.043\n",
      "recent_mover                  -0.9068      0.011    -86.029      0.000      -0.927      -0.886\n",
      "==============================================================================================\n"
     ]
    }
   ],
   "source": [
    "m.fit()"
   ]
  },
  {
   "cell_type": "code",
   "execution_count": null,
   "metadata": {},
   "outputs": [],
   "source": []
  }
 ],
 "metadata": {
  "kernelspec": {
   "display_name": "Python 3",
   "language": "python",
   "name": "python3"
  },
  "language_info": {
   "codemirror_mode": {
    "name": "ipython",
    "version": 3
   },
   "file_extension": ".py",
   "mimetype": "text/x-python",
   "name": "python",
   "nbconvert_exporter": "python",
   "pygments_lexer": "ipython3",
   "version": "3.6.5"
  }
 },
 "nbformat": 4,
 "nbformat_minor": 2
}
